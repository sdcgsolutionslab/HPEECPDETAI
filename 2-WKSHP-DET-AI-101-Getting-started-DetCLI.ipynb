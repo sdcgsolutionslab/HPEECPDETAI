{
 "cells": [
  {
   "cell_type": "markdown",
   "id": "5a5e4bcf-e5b6-40a3-9135-b8d583505348",
   "metadata": {},
   "source": [
    "# Getting started with Determined AI, the open-source deep learning training platform - Lab 2\n",
    "\n",
    "In this part of the lab, we consider the well known iris classification problem of predicting iris species based on sepal and petal size.  We leverage Determined AI to train and tune a TensorFlow Keras model on TensorFlow's publicly available iris [training](http://download.tensorflow.org/data/iris_training.csv) and [test](http://download.tensorflow.org/data/iris_test.csv) datasets.\n",
    "\n",
    "The dataset consists of:\n",
    "* 150 samples (120 samples for the training dataset, 30 samples for the test data set)\n",
    "* 3 labels: species of Iris (Iris setosa, Iris virginica and Iris versicolor)\n",
    "* 4 features: Sepal length,Sepal width,Petal length,Petal Width in cm\n",
    "\n",
    ">**Note:** _The Iris training and the validation/test datasets are stored in the HPE Ezmeral Data Fabric, a distributed file system integrated with HPE Ezmeral Runtime Enterprise. The shared file system has been made accessible to Determined AI system._\n",
    "\n",
    "In this part of the lab you will:\n",
    "* Install Determined AI CLI to interact with the Determined AI system running on Kubernetes cluster.\n",
    "* Use Determined AI to train your model with a single GPU, with multiple GPU and with hyperparamater tuning\n",
    "* Get familiar with the Determined AI WebUI and the Determined AI Command Line Interface (CLI)"
   ]
  },
  {
   "cell_type": "markdown",
   "id": "f80a2abe-8eaf-4041-b98c-67bd464e0f7d",
   "metadata": {},
   "source": [
    "### 1- Install Determined AI CLI\n",
    "\n",
    "The Determined CLI is a command line tool that allows you to interact with the Determined AI system. For example, the CLI allows you to launch new experiment to train your deep learning model.\n",
    "\n",
    "Here, you will use the line magic function below to install **Determined AI CLI** as a new Python packages in the current Jupyter kernel.\n",
    "\n",
    ">**Note:** After installation of the package, you will need to restart the current kernel to use the newly installed package from the local Jupyter server."
   ]
  },
  {
   "cell_type": "code",
   "execution_count": null,
   "id": "7be26dcb-470a-432f-a66c-0f1ad2682a52",
   "metadata": {},
   "outputs": [],
   "source": [
    "# use the line magic function below to install new Python packages in the current Jupyter kernel.\n",
    "# restart the current kernel to use the newly installed package\n",
    "%pip install kfp-pipeline-spec --quiet\n",
    "%pip install determined --quiet"
   ]
  },
  {
   "cell_type": "markdown",
   "id": "41756187-42c8-485d-9cb3-f60c79755848",
   "metadata": {},
   "source": [
    "### 2- Restart your Kernel to use the newly installed Python packages.\n",
    "From the menu bar, select **\"Kernel\"** then **\"Restart Kernel...\"**"
   ]
  },
  {
   "cell_type": "markdown",
   "id": "e00e4cdf-0481-4c3e-94a8-30dca679ea5f",
   "metadata": {},
   "source": [
    "### 3- Fetch the KubeConfig file for your tenant user ID\n",
    "\n",
    "When prompted to enter the password, make sure to enter password for your StudentID credentials.\n",
    "\n",
    ">**Note:** You can ignore _InsecureRequestWarning_ message\n",
    "\n",
    "If the password is correct, you will see the message ***kubeconfig set for user Student\\<YourID\\>***."
   ]
  },
  {
   "cell_type": "code",
   "execution_count": null,
   "id": "43d3babd-e39d-4c0d-b4a3-65e576b91b0b",
   "metadata": {},
   "outputs": [],
   "source": [
    "%kubeRefresh"
   ]
  },
  {
   "cell_type": "markdown",
   "id": "735cdd57-c59e-4423-9d74-83e76e45e194",
   "metadata": {},
   "source": [
    "### 4- Determined AI components\n",
    "\n",
    "For this hands-on workshop, the Determined AI system has been installed on the Kubernetes cluster managed by HPE Ezmeral Runtime Enterprise on a Kubernetes namespace _determinedai_.  \n",
    "\n",
    "When installing Determined AI on Kubernetes, an instance of the **Determined Master** and a **Postgres database** are deployed in the Kubernetes cluster. Run the code cell below and check out the output. You should see one container POD for the Determined Master service and another POD for the Database service.\n",
    "\n",
    "The Determined Master is the central component of the Determined System. The Master is responsible for:\n",
    "* Tracking and storing all Determined workloads (model training tasks) metadata (description, labels, hyperparmeters, search algorithm used, validation metrics, start/end time, logs) produced by model training tasks in the Postgres database.\n",
    "* Scheduling Determined training workloads as a collection of Kubernetes PODs.\n",
    "* Saving model artifacts (model files) and training checkpoints of Determined training workloads in a _checkpoint persistent storage_ to keep records of the progress and ensure workload resiliency.\n",
    "* Serving the Web User Interface to visualize metrics across training tasks.\n"
   ]
  },
  {
   "cell_type": "code",
   "execution_count": null,
   "id": "3f1e07e2-22b7-4194-bffc-6f706b9fdda4",
   "metadata": {},
   "outputs": [],
   "source": [
    "!kubectl get pod -n determinedai | grep determined"
   ]
  },
  {
   "cell_type": "markdown",
   "id": "19c80755-b9bd-41a6-9467-642d51095748",
   "metadata": {},
   "source": [
    "### 5- Set the endpoint URL of the Determined master. \n",
    "\n",
    "To use Determined and interact with Determined cluster, you need to tell the CLI where the Determined master service is running."
   ]
  },
  {
   "cell_type": "code",
   "execution_count": null,
   "id": "b7ff2a74-4802-4dca-a418-8498c53c016d",
   "metadata": {},
   "outputs": [],
   "source": [
    "#\n",
    "# Getting the DeterminedAI Master service endpoint URL:\n",
    "#\n",
    "#print (\"The Determined Master service endpoint URL is: \")\n",
    "masterUrl=!kubectl describe service determined-master-service-stagingdetai -n determinedai | grep gateway/8080 | awk '{print $3}'\n",
    "det_master = str(masterUrl)[2:-2]\n",
    "determined_master = \"http://\" + det_master\n",
    "#print (f\"The Determined Master Service endpoint URL is: http://{det_master}\")\n",
    "print (f\"The Determined Master Service endpoint URL is: {determined_master}\")\n",
    "#print (f\"{determined_master}\")"
   ]
  },
  {
   "cell_type": "markdown",
   "id": "802a6f87-3823-45cd-a2c1-06fcd1d77895",
   "metadata": {},
   "source": [
    "#### If needed, replace the URL with the endpoint URL obtained from the output of the previous code cell."
   ]
  },
  {
   "cell_type": "code",
   "execution_count": null,
   "id": "e4f2dcba-b445-48c2-8b71-56ebc60f43df",
   "metadata": {},
   "outputs": [],
   "source": [
    "# Test importing Determined.  If Determined is properly installed, you will see no output.\n",
    "import determined as det"
   ]
  },
  {
   "cell_type": "markdown",
   "id": "f289f82a-8103-461c-8c5d-ad40360b1a37",
   "metadata": {},
   "source": [
    "### 6- Authenticate to Determined AI"
   ]
  },
  {
   "cell_type": "code",
   "execution_count": null,
   "id": "adb2d28d-e22a-4acb-864d-77e88be7a90c",
   "metadata": {},
   "outputs": [],
   "source": [
    "userID = \"student900\"\n",
    "#\n",
    "print (\"\")\n",
    "print (\"export DET_MASTER=\" + determined_master) \n",
    "print (\"~/.local/bin/det user login \" + userID)"
   ]
  },
  {
   "cell_type": "markdown",
   "id": "7d78f526-8727-4ef8-820e-ee90389b0ab7",
   "metadata": {},
   "source": [
    "- Start a Terminal in the Launcher (navigate to Launchr tab --> Click Terminal tile; or go to Menu --> File --> New Launcher --> Terminal)\n",
    "- In the Terminal, copy/paste the two commands above to authenticate to Determined AI as user Student<yourID>.\n",
    "- Press return when prompted to enter a password.\n",
    "- Then continue from Step 7 onwards. "
   ]
  },
  {
   "cell_type": "markdown",
   "id": "461aa3a3-48f2-4c1f-8364-202a93c022a0",
   "metadata": {},
   "source": [
    "### 7- Check connectivity to the Determined AI Master service endpoint"
   ]
  },
  {
   "cell_type": "code",
   "execution_count": null,
   "id": "8b93edcd-5556-48d3-afe4-856beab9fae6",
   "metadata": {},
   "outputs": [],
   "source": [
    "# The Determined AI CLI is installed in '$HOME/.local/bin'\n",
    "!~/.local/bin/det -m {determined_master} slot list"
   ]
  },
  {
   "cell_type": "markdown",
   "id": "b8651e8a-9ac2-4f37-8eef-d26fbab3d202",
   "metadata": {},
   "source": [
    "### 8- Create Determined AI experiments to train your model\n",
    "\n",
    "In Determined AI there are some foundational concepts to understand: Experiment, Trial, hyperparamater.\n",
    "\n",
    "**Experiment:** In Determined AI terms, an ***experiment*** is a collection of one or more DL training tasks. An experiment can either train a single model (with a single training task), or can define a search over a user-defined hyperparameter space (with several training tasks).\n",
    "\n",
    "**Trial:** Each training task in an experiment is called a ***trial***. A trial is a training task that consists of the dataset (training and validation/test dataset), a deep learning model (e.g.: the Python scripts), and an experiment configuration file that defines the values for all of the model’s hyperparameters. All the elements of a training task are put together in a model definition directory.\n",
    "\n",
    "**Hyperparameters:** These are user-defined variables that define how a model is trained. They affect the accuracy of the trained model. By choosing the best combination of hyperparameters you can obtain better end results. \n",
    "\n",
    ">**Note:** Determined AI on Kubernetes works by scheduling Determined workloads such as model training tasks as a collection of Kubernetes PODs."
   ]
  },
  {
   "cell_type": "code",
   "execution_count": null,
   "id": "f5274aa1-3932-45a0-bf2a-56f33e78537a",
   "metadata": {},
   "outputs": [],
   "source": [
    "!ls ~/source_control/Code -l"
   ]
  },
  {
   "cell_type": "markdown",
   "id": "678b0a17-e2e9-45e5-937e-8f3c5b1fdd77",
   "metadata": {},
   "source": [
    "The Determined model definition directory contains:\n",
    "- `model_def.py`: The TensorFlow Keras model definition exposed to Determined. The core code for the model. This includes building and compiling the model.\n",
    "- `startup-hook.sh`: Additional dependencies that Determined will automatically install into each POD container (trial runner) for this experiment. Here, Pandas Python library will be installed.\n",
    "- `*.yaml` a set of configuration files that each define an experiment to train the model\n",
    "     - const-fsmount.yaml: Train the model with constant hyperparameter values and data located in NFS shared storage.\n",
    "     - distributed-fsmount.yaml: Same as const.yaml, but trains the model with multiple GPUs (distributed training).\n",
    "     - adaptive-fsmount.yaml: Perform a hyperparameter search using Determined's state-of-the-art adaptive hyperparameter tuning algorithm.\n",
    "     \n",
    "**Data:** For this hands-on workshop, the Iris training dataset and validation/test dataset are stored in the HPE Ezmeral Data Fabric, a Distributed File System integrated into HPE Ezmeral Runtime Enterprise."
   ]
  },
  {
   "cell_type": "markdown",
   "id": "f69b59e8-4f1e-4b93-9196-38022f279a08",
   "metadata": {
    "tags": []
   },
   "source": [
    "#### 8.1- Create an experiment to train a single instance of the model with a single GPU by defining the hyperparameters in a const-fsmount.yaml file\n",
    "\n",
    "Let’s start simple by training the Iris model on a single GPU. We specify the hyperparameters as fixed values.\n",
    "\n",
    "Let's take a closer look at this file:"
   ]
  },
  {
   "cell_type": "code",
   "execution_count": null,
   "id": "6c3411b8-4620-4901-ba4b-d5f46acc9f13",
   "metadata": {},
   "outputs": [],
   "source": [
    "!cat ~/source_control/Code/const-fsmount.yaml"
   ]
  },
  {
   "cell_type": "markdown",
   "id": "1f8b2525-3454-488c-86dc-f9c4d07bd96f",
   "metadata": {
    "tags": []
   },
   "source": [
    "#### Let's run your first experiment!  We submit the experiment configuration and model directory to the Determined master using the following CLI command:\n",
    "\n",
    "The command below specifies the model definition directory to be used and the model configuration file _const-fsmount.yaml_. \n",
    "\n",
    "Optionally, the _-f_ flag could be used to print verbose output onto your terminal and to follow the progress of the experiment in real-time."
   ]
  },
  {
   "cell_type": "code",
   "execution_count": null,
   "id": "6a80ba35-1d9e-415f-a3fd-340f78663b57",
   "metadata": {},
   "outputs": [],
   "source": [
    "# launch experiment to train a single model on a single GPU\n",
    "!~/.local/bin/det -m {determined_master} experiment create ~/source_control/Code/const-fsmount.yaml ~/source_control/Code"
   ]
  },
  {
   "cell_type": "markdown",
   "id": "8fb3e2d4-074a-4c85-b544-89d3287ba8c6",
   "metadata": {},
   "source": [
    "Using the command below, you will see that Determined Master has launched the training task for your experiment as a container POD with name: _exp-\\<experimentID\\>-trial-\\<TriaID\\>-\\<unique-name\\>_."
   ]
  },
  {
   "cell_type": "code",
   "execution_count": null,
   "id": "48e8119b-d51c-4663-89d8-b38ebe5ad1ba",
   "metadata": {},
   "outputs": [],
   "source": [
    "!kubectl get pods -n determinedai"
   ]
  },
  {
   "cell_type": "markdown",
   "id": "94246ed4-a6d7-4691-bd25-13cf0252ce4b",
   "metadata": {},
   "source": [
    "The command below is used to list your experiment and its status in the Determined system. \n",
    "\n",
    "Run the code cell regularly to track the execution progress until the status change from **ACTIVE** to **COMPLETED**."
   ]
  },
  {
   "cell_type": "code",
   "execution_count": null,
   "id": "640644ea-eb51-4945-8b59-60e88cd0c9ad",
   "metadata": {},
   "outputs": [],
   "source": [
    "!~/.local/bin/det -m {determined_master} experiment list | tail -1"
   ]
  },
  {
   "cell_type": "markdown",
   "id": "b15bb5f9-b558-4e16-a4e3-2aec9a4166e1",
   "metadata": {},
   "source": [
    "#### 8.2- Create an experiment to train a single instance of the model with multiple GPUs (distributed training) by defining the hyperparameters in a distributed-fsmount.yaml file\n",
    "\n",
    "Next, let's run an experiment with the same model definition, but this time we leverage Determined's distributed training functionality. \n",
    "\n",
    "**Distributed training:** Determined can coordinate multiple GPUs to train a single trial more quickly leveraging GPUs across multiple machines. \n",
    "\n",
    ">**Note:** Distributed training performs best with complex models; therefore, the simple Iris model used in this example may not demonstrate the full benefits of using distributed training."
   ]
  },
  {
   "cell_type": "markdown",
   "id": "d4e4e511-7448-4d5d-8048-4412708d6cb4",
   "metadata": {},
   "source": [
    "Determined AI automatically executes **[data parallel](https://www.oreilly.com/content/distributed-tensorflow/)** training without requiring any model code changes. All you need to do to start a multi-GPU training workload is to specify the desired number of GPUs you want to use in the experiment configuration file. For example:\n",
    "\n",
    "                                      resources:\n",
    "                                          slots_per_trial: 8\n",
    "\n",
    "With this configuration, each trial within an experiment will use 8 GPUs to train a single model, whether leveraging 8 GPUs on a single machine or 8 GPUs across multiple machines in the Kubernetes cluster.\n",
    "\n",
    "\n",
    "Let's take a closer look at the experiment configuration file for distributed training:\n",
    "\n",
    "Next, submit the experiment with the same command as above; however, our experiment configuration file will now be distributed.yaml:\n"
   ]
  },
  {
   "cell_type": "code",
   "execution_count": null,
   "id": "f3c601f6-54d7-44bb-bb85-02de3db2e31a",
   "metadata": {},
   "outputs": [],
   "source": [
    "!cat ~/source_control/Code/distributed-fsmount.yaml"
   ]
  },
  {
   "cell_type": "code",
   "execution_count": null,
   "id": "190e0158-a600-4798-a1bc-bf007e9395f7",
   "metadata": {},
   "outputs": [],
   "source": [
    "# launch experiment to train a single model on muliple GPUs\n",
    "!~/.local/bin/det -m {determined_master} experiment create ~/source_control/Code/distributed-fsmount.yaml ~/source_control/Code"
   ]
  },
  {
   "cell_type": "code",
   "execution_count": null,
   "id": "766fd915-42c9-4050-b683-42d76cb56367",
   "metadata": {},
   "outputs": [],
   "source": [
    "!kubectl get pods -n determinedai"
   ]
  },
  {
   "cell_type": "markdown",
   "id": "5d44f5c2-d92c-4a7d-ae07-300e6821a1b7",
   "metadata": {
    "tags": []
   },
   "source": [
    "#### 8.3- Train multiple models as part of a hyperparameter search, using Determined AI hyperparameter tuning functionality, by defining the hyperparameters in an adaptive-fsmount.yaml file\n",
    "\n",
    "Next, let's run an experiment with the same model definition, but this time we leverage Determined's hyperparameter tuning to efficiently determine the hyperparameter values that yield the best-performing model.  We specify the hyperparameters as ranges instead of fixed values, and the `adaptive_simple` searcher to explore the hyperparameter space.\n",
    "\n",
    "Determined AI will run multiple training tasks (trials), each with different hyperparameters. Determined AI hyperparameter tuning functionality helps you find the best combiantion of hyperparameters for your particular model. \n",
    "\n",
    "The number of trials to run,  the set of user-defined hyperparameters range and the search algorithm (aka the searcher method) are defined in the configuration file _adaptive-fsmount.yaml_.\n",
    "\n",
    ">Note: The **searcher** is a method that is used to find effective hyperparameter settings within a predifined range of hyperparameter values.\n",
    "\n",
    "More about Hyperparameter optimization with Determined AI can be found [here](https://docs.determined.ai/latest/training-hyperparameter/index.html#hyperparameter-tuning)"
   ]
  },
  {
   "cell_type": "code",
   "execution_count": null,
   "id": "898baab2-218f-4d7b-9d92-9fdd05f59f8e",
   "metadata": {},
   "outputs": [],
   "source": [
    "!cat ~/source_control/Code/adaptive-fsmount.yaml"
   ]
  },
  {
   "cell_type": "code",
   "execution_count": null,
   "id": "32059164-7c70-4dab-8742-e89d1d81fc6a",
   "metadata": {},
   "outputs": [],
   "source": [
    "# Launch experiment to train the model with hyperparameter tuning\n",
    "!~/.local/bin/det -m {determined_master} experiment create ~/source_control/Code/adaptive-fsmount.yaml ~/source_control/Code"
   ]
  },
  {
   "cell_type": "code",
   "execution_count": null,
   "id": "c3b552c1-8674-4eab-92c2-63a847932479",
   "metadata": {},
   "outputs": [],
   "source": [
    "!kubectl get pods -n determinedai"
   ]
  },
  {
   "cell_type": "markdown",
   "id": "6ea49f9e-d526-497c-97b5-2c235fd03fc0",
   "metadata": {
    "tags": []
   },
   "source": [
    "### 9- Monitor and visualize your experiment in Determined AI Web User Interface\n",
    "\n",
    "To access information on both training and validation performance, simply go to the WebUI by entering the service endpoint URL of the Determined master in your web browser connected to the Internet.\n",
    "\n",
    "* Run the code cell below to get the Determined Master WebUI URL. \n",
    "* Then, click on the link to connect. \n",
    "* You will be prompted to enter your credentials. Type your StudentID as credentials and press return. The password is left blank."
   ]
  },
  {
   "cell_type": "code",
   "execution_count": null,
   "id": "2f891aa3-f1c6-42eb-bc2a-26de08aab774",
   "metadata": {},
   "outputs": [],
   "source": [
    "port = !kubectl describe service determined-master-service-stagingdetai -n determinedai | grep gateway/8080 | awk '{print $3}' | cut -d':' -f 2\n",
    "portUI = str(port)[2:-2]\n",
    "print (f\"The Determined Master WebUI URL is: http://notebooks.hpedev.io:{portUI}\")\n",
    "print (f\"Login using your student Identifier: {userID}, do not enter password.\")"
   ]
  },
  {
   "cell_type": "markdown",
   "id": "2f557b46-6a9b-41e5-b436-6373405fbf20",
   "metadata": {},
   "source": [
    "First experiment: After the experiment completes, we can see on the experiment detail page that training the model with the hyperparameter settings in `const.yaml` yields a validation accuracy of ~93%. \n",
    "\n",
    "Third experiment: On the experiment detail page, we see the best categorical accuracy that Determined's adaptive search achieves over time.  When the experiment finishes, we find that we reach 100% accuracy on the 30 test set examples, an improvement over the results of the fixed hyperparameter experiment.  We can drill in to the best-performing trial and view the associated hyperparameter values."
   ]
  },
  {
   "cell_type": "markdown",
   "id": "20a2f673-efc0-4deb-a95d-96b36d256c67",
   "metadata": {
    "tags": []
   },
   "source": [
    "### 10 - Tensorboard visualization\n",
    "Determined AI is integrated with Tensorboard for deeper analysis, help you better understand your neural network model by viewing the training and validation loss curves for your experiment in Tensorboard. "
   ]
  },
  {
   "cell_type": "markdown",
   "id": "c492f05d-ad8d-449c-82da-26362aea2711",
   "metadata": {},
   "source": [
    "* Determined AI lets you launch a Tensorboard server and access TensorBoard in one-click from the WebUI, or you can run the following command in Determined’s command line. This may take a minute or so as Determined has to launch the Tensorboard server as a Kubernetes POD. "
   ]
  },
  {
   "cell_type": "code",
   "execution_count": null,
   "id": "6992aaad-9afd-4573-ba07-a7c99e43a93e",
   "metadata": {},
   "outputs": [],
   "source": [
    "myexp=!~/.local/bin/det -m {determined_master} experiment list | tail -1 | cut -d'|' -f 1\n",
    "myexp=str(myexp)[5:-3]\n",
    "print (f\"{myexp}\")\n",
    "!~/.local/bin/det -m {determined_master} tensorboard start {myexp}"
   ]
  },
  {
   "cell_type": "markdown",
   "id": "547ad7ba-e4ad-4985-849c-6b847a99129d",
   "metadata": {},
   "source": [
    "* Run the code cell below to get the Tensorboard URL for your experiment. Then, click on the link to connect.\n",
    "\n",
    ">**Note:** The associated TensorBoard server is launched as a container POD in the Kubernetes cluster. Determined AI proxies HTTP requests to and from the TensorBoard container through the Determined AI master node."
   ]
  },
  {
   "cell_type": "code",
   "execution_count": null,
   "id": "7c186496-a26e-4607-a1e5-402baa52e7e8",
   "metadata": {},
   "outputs": [],
   "source": [
    "#!~/.local/bin/det -m {determined_master} tensorboard list | grep RUNNING\n",
    "mytensorboard=!~/.local/bin/det -m {determined_master} tensorboard list | grep RUNNING | cut -d'|' -f 1\n",
    "mytensorboard=str(mytensorboard)[3:-3]\n",
    "#print (f\"{mytensorboard}\")\n",
    "print (f\"Your tensorboard is running at http://notebooks.hpedev.io:{portUI}/proxy/{mytensorboard}/\")"
   ]
  },
  {
   "cell_type": "markdown",
   "id": "1e298668-ca20-46cf-a648-4cecf3176bb8",
   "metadata": {},
   "source": [
    "* When you have finished with Tensorboard, run the code cell below to kill theTensorboard process"
   ]
  },
  {
   "cell_type": "code",
   "execution_count": null,
   "id": "bb3d6f00-eb7a-41bf-a376-f44f86282e67",
   "metadata": {},
   "outputs": [],
   "source": [
    "!~/.local/bin/det -m {determined_master} tensorboard kill {mytensorboard}"
   ]
  },
  {
   "cell_type": "markdown",
   "id": "a9e0d22a-96cf-4fcb-83c1-e7ccb87fb4e2",
   "metadata": {},
   "source": [
    "### 11- Inference with Determined AI\n",
    "When you train a model with Determined, all of the artifacts (model files) and metrics associated with that training tasks are tracked and stored in _checkpoint storage_. The artifacts are accessible programmatically. This makes it really easy for you to export your best-performing trained model out of Determined and load it for inference (the process of using a trained model and new data to make a prediction).\n",
    "\n",
    "More information for downloading a trained model can be found [here](https://docs.determined.ai/latest/post-training/use-trained-models.html).\n",
    "\n",
    "In code, this looks like:"
   ]
  },
  {
   "cell_type": "code",
   "execution_count": null,
   "id": "3273810b-d3e0-4c0e-93fe-0b5ec2a9be80",
   "metadata": {},
   "outputs": [],
   "source": [
    "# After the experiment completes, you can use the line below to load it without re-training the model\n",
    "\n",
    "userID = \"student900\"\n",
    "passw = \"\"\n",
    "\n",
    "masterUrl=determined_master\n",
    "print (f\"Determined Master service endpoint is: {masterUrl}\")\n",
    "print (\"\")\n",
    "print (\"Fetch the Experiment Id of your last Experiment.\")\n",
    "myexp=!~/.local/bin/det -m {determined_master} experiment list | tail -1 | cut -d'|' -f 1\n",
    "myexp=str(myexp)[5:-3]\n",
    "print (f\"Your last experiment ID is:{myexp}\")"
   ]
  },
  {
   "cell_type": "code",
   "execution_count": null,
   "id": "2fc6a478-8b62-4280-8336-e5acd1f79c3b",
   "metadata": {},
   "outputs": [],
   "source": [
    "!~/.local/bin/det -m {determined_master} experiment download {myexp}"
   ]
  },
  {
   "cell_type": "code",
   "execution_count": null,
   "id": "fd14092c-d35e-4f18-9062-e68b4660dd96",
   "metadata": {},
   "outputs": [],
   "source": [
    "from determined.experimental import client\n",
    "client.login(master=determined_master, user=userID, password=passw)\n",
    "print(f\"Loading top checkpoint from Experiment ID: {myexp}\")\n",
    "# Download latest checkpoint of trained model. \n",
    "# It returns an instance of Checkpoint representing the checkpoint that has the best validation metric.\n",
    "checkpoint = client.get_experiment(myexp).top_checkpoint()\n",
    "#\n",
    "#print(f\"Downloaded checkpoint to: {checkpoint}\")\n"
   ]
  },
  {
   "cell_type": "code",
   "execution_count": null,
   "id": "cc53baf4-2289-444b-b95e-e5720f5d8b54",
   "metadata": {},
   "outputs": [],
   "source": [
    "model = checkpoint.load()\n",
    "print(f\"Downloaded checkpoint to: {checkpoint}\")\n",
    "print(\"Loaded trained model\")"
   ]
  },
  {
   "cell_type": "code",
   "execution_count": null,
   "id": "7892ffd3-490a-4ee3-becf-d8f2d1631ea0",
   "metadata": {},
   "outputs": [],
   "source": [
    "# Now you can use the model to make predictions.\n",
    "\n",
    "X_new = np.array([[3, 2, 1, 0.2], [  4.9, 2.2, 3.8, 1.1 ], [  5.3, 2.5, 4.6, 1.9 ]])\n",
    "#Prediction of the species from the input vector\n",
    "prediction = model.(X_new)\n",
    "print(\"Prediction of Species: {}\".format(prediction))"
   ]
  }
 ],
 "metadata": {
  "kernelspec": {
   "display_name": "Python 3",
   "language": "python",
   "name": "python3"
  },
  "language_info": {
   "codemirror_mode": {
    "name": "ipython",
    "version": 3
   },
   "file_extension": ".py",
   "mimetype": "text/x-python",
   "name": "python",
   "nbconvert_exporter": "python",
   "pygments_lexer": "ipython3",
   "version": "3.7.3"
  }
 },
 "nbformat": 4,
 "nbformat_minor": 5
}
