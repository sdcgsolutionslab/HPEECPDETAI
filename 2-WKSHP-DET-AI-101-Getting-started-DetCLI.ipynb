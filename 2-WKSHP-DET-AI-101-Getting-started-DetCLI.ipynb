{
 "cells": [
  {
   "cell_type": "markdown",
   "id": "5a5e4bcf-e5b6-40a3-9135-b8d583505348",
   "metadata": {},
   "source": [
    "# Getting started with Determined, the open-source deep learning training platform - Lab 2\n",
    "## Learning the base principles of Determined\n",
    "\n",
    "For this part of the lab you will consider the well known Iris classification problem of predicting Iris species based on the length and width measurements of their sepals and petals. You'll leverage Determined to train and tune a TensorFlow Keras based Neural Network model on TensorFlow's publicly available iris [training](http://download.tensorflow.org/data/iris_training.csv) and [validation](http://download.tensorflow.org/data/iris_test.csv) datasets. \n",
    "\n",
    "The objective of the model is to predict the **likelihood** that a flower is the given Iris species.\n",
    "\n",
    "The small dataset consists of:\n",
    "* 150 samples (120 samples for the training dataset, 30 samples for the validation dataset)\n",
    "* 4 features (the characteristics of the Iris): Sepal length, Sepal width, Petal length, Petal width (in cm)\n",
    "* 1 label (the specie of Iris to predict): for this dataset it is an integer value of 0, 1, 2 that corresponds to the species of Iris: 0-Iris setosa, 1-Iris versicolor, 2-Iris virginica.\n",
    "\n",
    "Determined provides a Web User Interface (UI), a Command Line Interface (CLI) and APIs to interact with Determined system. In this part of the lab you will learn how you can communicate with Determined system, run tasks such as training model tasks, monitor and visualize training progress and results.\n",
    "\n",
    "* You will install Determined CLI in the local Jupyter Notebook server to interact with the Determined system running on Kubernetes cluster.\n",
    "* You will be introduced to Determined system components.\n",
    "* You will get familiar with major commands of the Determined CLI.\n",
    "* You will use the Determined CLI to create training tasks in order to train your Neural Network model with a single GPU, with multiple GPUs and using Determined AI hyperparameter tuning.\n",
    "* You will also interact with the Determined AI WebUI and TensorBoard to visualize experiments metrics and results.\n",
    "* You will finally use the Python API to interact with Determined, load the trained model and make some predictions (inferences) using the trained model.\n",
    "\n",
    "> <font color=\"green\"> **Note:** The model has already been ported to run on Determined. Porting a deep learning model code to Determined is beyond the scope of this workshop. The easiest way to learn how to port your existing deep learning model code to Determined, is to start with the [Pytorch Porting tutorial](https://docs.determined.ai/latest/tutorials/pytorch-porting-tutorial.html).</font>"
   ]
  },
  {
   "cell_type": "markdown",
   "id": "f80a2abe-8eaf-4041-b98c-67bd464e0f7d",
   "metadata": {},
   "source": [
    "### 1- Install Determined CLI\n",
    "\n",
    "The Determined CLI is a command line tool that allows you to interact with the Determined system. For example, the CLI allows you to launch new experiment to train your deep learning (DL) model. The Determined CLI is distributed as a Python package. You need a machine with Python 3.6 or later installed with Internet access. You local Jupyter Notebook Server fulfills the requirements. You will just have to use the command _pip install determined_ to install the Determined package.\n",
    "\n",
    "#### In the code cell below, you will use the line magic function `%pip` to install **Determined CLI** as a new Python packages in the current Jupyter kernel. The Determined CLI will be installed in the folder: ***~/.local/bin***\n",
    "\n",
    ">**Note:** When running the code cell below, please ignore the Warning messages: _the script distro is installed in /home/studentId/.local/bin which is not on PATH_. \n",
    "\n",
    ">**Important Note:** After installation of the package is completed, you will need to restart the current kernel to use the newly installed package from the local Jupyter Notebook server."
   ]
  },
  {
   "cell_type": "code",
   "execution_count": null,
   "id": "7be26dcb-470a-432f-a66c-0f1ad2682a52",
   "metadata": {},
   "outputs": [],
   "source": [
    "# use the line magic function below to install new Python packages in the current Jupyter kernel.\n",
    "# restart the current kernel to use the newly installed package\n",
    "%pip install kfp-pipeline-spec --quiet\n",
    "%pip install determined --quiet"
   ]
  },
  {
   "cell_type": "markdown",
   "id": "41756187-42c8-485d-9cb3-f60c79755848",
   "metadata": {},
   "source": [
    "### 2- Restart your Kernel to use the newly installed Python packages.\n",
    "From the menu bar, select **\"Kernel\"** then **\"Restart Kernel...\"**"
   ]
  },
  {
   "cell_type": "markdown",
   "id": "e00e4cdf-0481-4c3e-94a8-30dca679ea5f",
   "metadata": {},
   "source": [
    "### 3- Fetch the KubeConfig file for your tenant user ID\n",
    "\n",
    "Your local Jupyter Notebook has been tailored to interact with the Kubernetes resources using the Kubernetes API through the command line interface \"***kubectl***\". \n",
    "\n",
    "#### Use the custom magic command ***%kubeRefresh*** below to fetch the kubeconfig file that will allow you to interact directly with the Kubernetes resources from within your local Jupyter Notebook.\n",
    "\n",
    "When prompted to enter the password, make sure to enter password for your StudentID credentials you received in the Workshop-on-demand registration e-mail.\n",
    "\n",
    ">**Note:** You can ignore _InsecureRequestWarning_ messages\n",
    "\n",
    "If the password is correct, you will see the message ***kubeconfig set for user Student\\<YourID\\>***."
   ]
  },
  {
   "cell_type": "code",
   "execution_count": null,
   "id": "43d3babd-e39d-4c0d-b4a3-65e576b91b0b",
   "metadata": {},
   "outputs": [],
   "source": [
    "%kubeRefresh"
   ]
  },
  {
   "cell_type": "markdown",
   "id": "735cdd57-c59e-4423-9d74-83e76e45e194",
   "metadata": {},
   "source": [
    "### 4- Determined system components\n",
    "\n",
    "For this hands-on workshop, the Determined system has been installed on the Kubernetes cluster managed by HPE Ezmeral Runtime Enterprise on a Kubernetes namespace ***determinedai***.  \n",
    "\n",
    "When installing Determined on Kubernetes, an instance of the **Determined Master** and a **PostgreSQL database** are deployed in the Kubernetes cluster. These components run as a container within a Kubernetes POD. \n",
    "\n",
    "#### Run the code cell below and check out the output. \n",
    "\n",
    "You should see one container POD for the Determined Master service and another POD for the Database service as well as service endpoints for the Master and the database. The Master service endpoint is a NodePort service which exposes the Master service endpoint outside the Kubernetes cluster."
   ]
  },
  {
   "cell_type": "code",
   "execution_count": null,
   "id": "3f1e07e2-22b7-4194-bffc-6f706b9fdda4",
   "metadata": {},
   "outputs": [],
   "source": [
    "!kubectl get pod,services -n determinedai | grep determined"
   ]
  },
  {
   "cell_type": "markdown",
   "id": "3fdc54f5-d700-44f1-8915-9811fce93e71",
   "metadata": {},
   "source": [
    "The **Determined Master** is the central component of the Determined System. The Master is responsible for:\n",
    "\n",
    "* **Scheduling** Determined training tasks as a collection of Kubernetes PODs. The Master brings up PODs to run workloads such as model training tasks, TensorBoard instances and JupyterLab instances.\n",
    "* **Tracking and storing** all model training tasks metadata (description, labels, hyperparameters, search algorithm used, training metrics, validation metrics, start/end time, logs) in the PostgreSQL database.\n",
    "* **Saving** model _artifacts_ (model files, code, model definition files) and training _checkpoints_ of Determined training tasks in a _checkpoint storage_ to keep records of the training tasks progress and ensure resiliency. Determined will automatically retry failed training tasks from latest checkpoint.\n",
    "* **Serving** the Web User Interface (WebUI) for users to visualize training and validation metrics across their model training tasks.\n",
    "\n",
    ">**Note:** _For this hands-on lab, the Kubernetes cluster worker nodes that run the Determined system, have been configured to connect to a distributed file system provided by HPE Ezmeral Runtime Enterprise (from the pre-integrated HPE Ezmeral Data Fabric). The distributed file system provides shared storage that works with Determined system to:_ \n",
    ">* _allow training tasks launched as container PODs on any Kubernetes worker nodes to access the shared model training/validation datasets,_ \n",
    ">* _store model training artifacts (model files, model codes) and training task checkpoints on a shared checkpoint storage. Checkpoints are saved versions of trained models that users can access later to test the model and deploy the model in production. Checkpoints are also used by Determined to ensure training work is not lost in case of system failure during a training, so determine can retry failed training tasks._\n",
    "\n",
    "**Let's see Determined system in action!!!**"
   ]
  },
  {
   "cell_type": "markdown",
   "id": "19c80755-b9bd-41a6-9467-642d51095748",
   "metadata": {},
   "source": [
    "### 5- Get the endpoint URL of the Determined Master. \n",
    "\n",
    "To use Determined and interact with Determined system with the CLI, you need to tell the CLI where the Determined Master service is running. \n",
    "\n",
    "#### Run the code cell below to get the Determined Master endpoint URL fetched from the Kubernetes service of Determined Master. The _\"kubectl describe service\"_ command is used to get the Master URL.  "
   ]
  },
  {
   "cell_type": "code",
   "execution_count": null,
   "id": "b7ff2a74-4802-4dca-a418-8498c53c016d",
   "metadata": {},
   "outputs": [],
   "source": [
    "#\n",
    "# Getting the DeterminedAI Master service endpoint URL:\n",
    "#\n",
    "masterUrl=!kubectl describe service determined-master-service-stagingdetai -n determinedai | grep gateway/8080 | awk '{print $3}'\n",
    "det_master = str(masterUrl)[2:-2] # we remove any potential brackets\n",
    "determined_master = \"http://\" + det_master\n",
    "print (f\"The Determined Master Service endpoint URL is: {determined_master}\")\n",
    "#print (f\"{determined_master}\")"
   ]
  },
  {
   "cell_type": "markdown",
   "id": "f289f82a-8103-461c-8c5d-ad40360b1a37",
   "metadata": {},
   "source": [
    "### 6- Set the Determined Master URL and authenticate to Determined system\n",
    "\n",
    "#### Run the code cell below and follow steps 1 to 4 below to set environmental variable _on the terminal_ to reference the Determined Master service endpoint and authenticate to Determined system as student\\<yourId\\>: "
   ]
  },
  {
   "cell_type": "code",
   "execution_count": null,
   "id": "adb2d28d-e22a-4acb-864d-77e88be7a90c",
   "metadata": {},
   "outputs": [],
   "source": [
    "userID = \"student900\"\n",
    "#\n",
    "print (\"\")\n",
    "print (\"export DET_MASTER=\" + determined_master) \n",
    "print (\"~/.local/bin/det user login \" + userID)"
   ]
  },
  {
   "cell_type": "markdown",
   "id": "7d78f526-8727-4ef8-820e-ee90389b0ab7",
   "metadata": {},
   "source": [
    "1. Start a Terminal in the Launcher (navigate to Launcher tab --> Click Terminal tile; or go to Menu --> File --> New Launcher --> Terminal)\n",
    "2. In the Terminal, copy/paste the two commands above to authenticate to Determined as user Student<yourID>.\n",
    "3. Press _Return_ key when prompted to enter a password. Users have `blank` password per default in Determined.\n",
    "4. Then continue from **Step 7** onwards. "
   ]
  },
  {
   "cell_type": "markdown",
   "id": "461aa3a3-48f2-4c1f-8364-202a93c022a0",
   "metadata": {},
   "source": [
    "### 7- Check connectivity to the Determined Master service endpoint\n",
    "\n",
    "#### Run your first Determined CLI command below to verify the connectivity to the Determined Master.\n",
    "\n",
    "Any Det CLI command is in the form: ***det -m \\<det_master_URL_or_IP:port\\> \\<command_argument\\> \\<action_verb\\> [-h]***\n",
    "\n",
    "The Master service endpoint is referenced using the ***-m*** flag. \n",
    "\n",
    "You can use the help flag [-h] to learn more about valid options.\n",
    "\n",
    "The command below display the Determined CLI client version and Master version. "
   ]
  },
  {
   "cell_type": "code",
   "execution_count": null,
   "id": "8b93edcd-5556-48d3-afe4-856beab9fae6",
   "metadata": {},
   "outputs": [],
   "source": [
    "# The Determined CLI is installed in '$HOME/.local/bin'\n",
    "!~/.local/bin/det -m {determined_master} version"
   ]
  },
  {
   "cell_type": "markdown",
   "id": "b8651e8a-9ac2-4f37-8eef-d26fbab3d202",
   "metadata": {},
   "source": [
    "### 8- Launch your first Determined training workloads to train your model\n",
    "\n",
    "Let's first introduce some fundamental Determined concepts that are leveraged in this workshop: _Experiment, Trial and Hyperparamater_.\n",
    "\n",
    "**Experiment:** In Determined terms, an ***experiment*** is a collection of one or more DL training tasks (trials). A Determined experiment can either train a single model with a single training task using one or multiple GPUs, or it can define a search over a user-defined hyperparameter space with several training tasks.\n",
    "\n",
    "**Trial:** Each training task in an experiment is called a ***trial***. A trial is a training task that consists of the dataset (training and validation/test dataset), a deep learning model (for example the Python scripts that load the dataset, build and compile the model) `adjusted to run on Determined system`, and **an experiment configuration file** that defines how to run the training model process on Determined system (for example, the hyperparameters, the number of GPUs for each trial, the amount of data on which to train a model, or how often to report the training metrics and the validation metrics). All the elements of a training task are put together in a `model definition directory`.\n",
    "\n",
    "**Hyperparameters:** These are user-defined variables that define how a model is trained. They affect the accuracy of the trained model. By choosing the best combination of hyperparameters you can obtain better performance of your model. "
   ]
  },
  {
   "cell_type": "markdown",
   "id": "5abdef11-1f20-493b-8a0e-b54b069a2ad0",
   "metadata": {},
   "source": [
    "#### Run the code cell below to display the content of the `model definition directory`:"
   ]
  },
  {
   "cell_type": "code",
   "execution_count": null,
   "id": "f5274aa1-3932-45a0-bf2a-56f33e78537a",
   "metadata": {},
   "outputs": [],
   "source": [
    "!ls ~/source_control/Code -l"
   ]
  },
  {
   "cell_type": "markdown",
   "id": "678b0a17-e2e9-45e5-937e-8f3c5b1fdd77",
   "metadata": {},
   "source": [
    "The Determined model definition directory contains:\n",
    "- `model_def.py`: The model definition exposed to Determined. This is the core code for the model. This includes data loading code, building the model and compiling the model.\n",
    "- `*.yaml` a set of experiment configuration YAML files that each defines settings for how an experiment runs to train the model\n",
    "     - _const.yaml_: Trains the model with single GPU and with constant hyperparameter values, and data located in a shared file system storage.\n",
    "     - _distributed.yaml_: Same as const.yaml, but trains the model with multiple GPUs (distributed training).\n",
    "     - _adaptive.yaml_: Performs a hyperparameter search using Determined's state-of-the-art adaptive hyperparameter tuning algorithm (aka a `Searcher` method).\n",
    "- `startup-hook.sh`: (optional) Additional dependencies that Determined will automatically install into each POD container for this experiment. In the Iris classification example used here, Pandas Python library will be installed."
   ]
  },
  {
   "cell_type": "markdown",
   "id": "f69b59e8-4f1e-4b93-9196-38022f279a08",
   "metadata": {
    "tags": []
   },
   "source": [
    "#### Let’s start simple by training the Iris deep Learning model on a single GPU by defining the hyperparameters as fixed values in the experiment configuration file. \n",
    "\n",
    "#### First, run the code cell below to take a closer look at the `experiment configuration file` const.yaml.\n",
    "The experiment configuration file defines the hyperparameters, the Searcher method to use and the settings for that Searcher, the number of GPUs for each trial, the amount of data (batches or epochs) on which to train the model, how often to report training metrics and when the validation occurs.\n",
    "\n",
    ">**Note:** The Experiment configuration file has some required field and some optional ones. To learn more about Experiment configuration settings, check out the online documentation [here](https://docs.determined.ai/latest/training-apis/experiment-config.html)."
   ]
  },
  {
   "cell_type": "code",
   "execution_count": null,
   "id": "6c3411b8-4620-4901-ba4b-d5f46acc9f13",
   "metadata": {},
   "outputs": [],
   "source": [
    "!cat ~/source_control/Code/const.yaml"
   ]
  },
  {
   "cell_type": "markdown",
   "id": "48f67296-0b22-4e09-8a17-11ce9caac255",
   "metadata": {},
   "source": [
    "As you can see above, the hyperparameters (for example the _learning_rate_ and the _batch_size_) are defined as fixed values.\n",
    "\n",
    "The ***Searcher*** section defines how Determined should explore the hyperparameter space and the amount of data on which to train the model. Here, the Searcher method is defined as _Single_ because we use fixed values for the hyperparameters. In this case, Determined does not perform any hyperparameter search and optimization at all. Here, the mount of data is set to 5000 batches.\n",
    "   * ***batch***: group of records passed to the neural network model during training. The hyperparameter ***batch_size*** defines the number of records within a batch.\n",
    "\n",
    "The validation metric ***val_categorical_accuracy*** is used to evaluate the performance of the training and validation over a certain amount of data expressed as _batches_ or _epochs_. For our Iris model use case the higher the metric the better the training and validation. \n",
    "\n",
    "The resource setting ***slot_per_trial*** specifies the number of GPUs on which to run the experiment. Here, a single GPU is used to train the model. \n",
    "\n",
    "The ***entrypoint*** tells the training task where to start running the model code.\n",
    "\n",
    "The parameter ***scheduling_unit*** lets the Master receive and plot training metrics every _N_ batches of data. The default value is 100.\n",
    "\n",
    "The parameter ***min_validation_period*** instructs Determined how often to calculate the validation metrics and how often to \n",
    "checkpoint the validated model. The validation metric is plotted whenever it is calculated. By default the validation is at the trial end. In this example, the validation metric is calculated every 1000 batches and the valided model is checkpointed every 1000 batches if it is the best model. The validated model is also calculated and checkpointed at the trial end.\n",
    "\n",
    "Notice the ***bind_mounts*** attributes: to run an experiment that uses data stored in a shared file system, _bind_mounts_ attributes are specified in the experiment configuration file to mount the directory that stores the data to the training task container POD. Here, the bind_mounts point to the shared file system path mounted on the Kubernetes cluster worker nodes by HPE Ezmeral Runtime Enterprise. "
   ]
  },
  {
   "cell_type": "markdown",
   "id": "1f8b2525-3454-488c-86dc-f9c4d07bd96f",
   "metadata": {
    "tags": []
   },
   "source": [
    "#### Next, run the command below to create your first experiment! \n",
    "\n",
    "The Det command specifies the model configuration file to use (_const.yaml_) and the model definition directory. Determined then schedules the training task as a Kubernetes POD. The POD container has all the librairies and dependencies required for training typical deep learning model.\n",
    "\n",
    "* _det experiment create \\<experiment_config_file\\> \\<model_definition_directory\\>_\n",
    "\n",
    "The command will return the Experiment Id."
   ]
  },
  {
   "cell_type": "code",
   "execution_count": null,
   "id": "6a80ba35-1d9e-415f-a3fd-340f78663b57",
   "metadata": {},
   "outputs": [],
   "source": [
    "# launch experiment to train a single model on a single GPU\n",
    "!~/.local/bin/det -m {determined_master} experiment create ~/source_control/Code/const.yaml ~/source_control/Code"
   ]
  },
  {
   "cell_type": "markdown",
   "id": "8fb3e2d4-074a-4c85-b544-89d3287ba8c6",
   "metadata": {},
   "source": [
    "Using the command below, you will see that Determined Master has launched **one** training task (trial) for your experiment as a container POD with name in the form:\n",
    "\n",
    " _exp-\\<experimentID\\>-trial-\\<TriaID\\>-\\<unique-name\\>_\n",
    " \n",
    " >**Note:** Since this experiment trains a single model with a fixed set of hyperparameters, there is only one training task (trial) launched.\n",
    " \n",
    "> <font color=\"blue\"> **Note:** As you are sharing the same Kubernetes resources with other participants, and depending on the number of concurrent experiments running, your training task POD might be in **Pending** state waiting for GPU resources to become available. You might need to wait a few minutes until other experiments complete for your training task POD to become **Running**.</font>"
   ]
  },
  {
   "cell_type": "code",
   "execution_count": null,
   "id": "48e8119b-d51c-4663-89d8-b38ebe5ad1ba",
   "metadata": {},
   "outputs": [],
   "source": [
    "!kubectl get pods -n determinedai"
   ]
  },
  {
   "cell_type": "markdown",
   "id": "94246ed4-a6d7-4691-bd25-13cf0252ce4b",
   "metadata": {},
   "source": [
    "The Det commands below are used to list your experiment and its status in the Determined system:\n",
    "\n",
    "* _det experiment list_\n",
    "* _det experiment describe \\<experiment_Id\\> --json | jq .[0].state_\n",
    "\n",
    "#### Run the code cell below to track the execution progress of your experiment."
   ]
  },
  {
   "cell_type": "code",
   "execution_count": null,
   "id": "640644ea-eb51-4945-8b59-60e88cd0c9ad",
   "metadata": {},
   "outputs": [],
   "source": [
    "!~/.local/bin/det -m {determined_master} experiment list | tail -1\n",
    "# Get the experiment Id, remove spaces\n",
    "myexpId=!~/.local/bin/det -m {determined_master} experiment list | tail -1 | cut -d'|' -f 1 |  tr -d ' '\n",
    "# remove the trailer characters\n",
    "myexpId=str(myexpId)[2:-2]\n",
    "!~/.local/bin/det -m {determined_master} experiment describe {myexpId} --json | jq .[0].state"
   ]
  },
  {
   "cell_type": "markdown",
   "id": "6ea49f9e-d526-497c-97b5-2c235fd03fc0",
   "metadata": {
    "tags": []
   },
   "source": [
    "### 9- Monitor and visualize your experiment in Determined AI Web User Interface\n",
    "\n",
    "To access information on both training and validation performance, simply go to the Determined **WebUI** by entering the service endpoint URL of the Determined Master in your web browser connected to the Internet.\n",
    "\n",
    "* #### Run the code cell below to get the Determined Master WebUI URL. \n",
    "* #### Then, click on the displayed link to connect. This will open a new tab in your browser with the Determined UI login banner.\n",
    "* #### You will be prompted to enter your credentials. Type your StudentID as credentials and press return. The password is `blank` by default.\n",
    "* #### Upon login you should see the WebUI **dashboard** as shown in the picture below. The Dashboard page shows an overview of tasks on the Determined system as well as an overview of the GPU resources utilization. "
   ]
  },
  {
   "cell_type": "code",
   "execution_count": null,
   "id": "2f891aa3-f1c6-42eb-bc2a-26de08aab774",
   "metadata": {},
   "outputs": [],
   "source": [
    "port = !kubectl describe service determined-master-service-stagingdetai -n determinedai | grep gateway/8080 | awk '{print $3}' | cut -d':' -f 2 |  tr -d ' '\n",
    "portUI = str(port)[2:-2]\n",
    "print (f\"The Determined Master WebUI URL is: http://notebooks.hpedev.io:{portUI}\")\n",
    "print (f\"Click the link above to connect. Login using your student Identifier: {userID}, do not enter password. Click on Sign In button\")"
   ]
  },
  {
   "cell_type": "markdown",
   "id": "d640b616-9235-4a32-b2c9-4d1e6c91de08",
   "metadata": {},
   "source": [
    "<img src=\"DetWebUI-Login.png\" height=\"298\" width=\"300\">\n",
    "\n",
    "From the WebUI, make sure **you select your StudentID** from the ***Users*** drop-down list as shown in the picture below. By default, the Experiments are displayed. You can select other icons to display auxiliary tasks such as TensorBoard tasks and JupyterLab tasks. We will explore these auxiliary tasks in the next sections. \n",
    "\n",
    "<img src=\"DetWebUI-Users-v1.png\" height=\"171\" width=\"900\">\n"
   ]
  },
  {
   "cell_type": "markdown",
   "id": "2f557b46-6a9b-41e5-b436-6373405fbf20",
   "metadata": {},
   "source": [
    "##### From the dashboard, select the most recent experiment you want to visualize.\n",
    "\n",
    "You should see the experiment as an **active** state and its completion percentage.\n",
    "\n",
    "> <font color=\"blue\"> **Important Note:** If there are multiple concurrent participants to the workshop, your experiment might not run yet because there are more experiments running than the Kubernetes cluster has GPUs. You might need to wait a few minutes until other experiments complete for your experiment to start running. </font>\n",
    "\n",
    "After the experiment completes, you can see on the experiment detail page that training the model with the hyperparameter settings in `const.yaml` yields a validation accuracy between 93% and 97%. \n",
    "\n",
    "From the **Metrics** menu, under **Training Metrics**, select _categorical_accuracy_ (see picture below for an example). This metric indicates the model accuracy on training data while the _val_categorical_accuracy_ indicates the model accuracy on validation data.\n",
    "\n",
    "Scroll down to see a list of training validation workloads and their metrics for the metric types you previously selected. \n",
    "You might see one or two validation workloads with checkpoints. By default, Determined will checkpoint the most recent and the best model per training task (trial). If the most recent checkpoint is also the best checkpoint for a given trial, only one checkpoint will be saved for that trial.\n",
    "\n",
    "<img src=\"WebUI-Exp-const-graph.png\" height=\"520\" width=\"900\">"
   ]
  },
  {
   "cell_type": "markdown",
   "id": "20a2f673-efc0-4deb-a95d-96b36d256c67",
   "metadata": {
    "tags": []
   },
   "source": [
    "### 10 - TensorBoard visualization\n",
    "\n",
    "[TensorBoard](https://www.tensorflow.org/tensorboard) is a widely used tool for visualizing and inspecting deep learning models. Determined is integrated with TensorBoard for deeper analysis of your experiment and to help you examine your neural network model by viewing the training and validation loss curves for your experiment in TensorBoard. "
   ]
  },
  {
   "cell_type": "markdown",
   "id": "c492f05d-ad8d-449c-82da-26362aea2711",
   "metadata": {},
   "source": [
    "Determined lets you launch a Tensorboard server and access TensorBoard in one-click from the WebUI, or you can run the following command in Determined’s command line:\n",
    "\n",
    "* _det tensorboard start \\<experiment_Id\\>_\n",
    "\n",
    "#### Run the code cell below to launch the TensorBoard server instance.\n",
    "\n",
    "This may take a minute or so as Determined has to launch the Tensorboard server as a Kubernetes POD. "
   ]
  },
  {
   "cell_type": "code",
   "execution_count": null,
   "id": "6992aaad-9afd-4573-ba07-a7c99e43a93e",
   "metadata": {},
   "outputs": [],
   "source": [
    "print (f\"Start a Tensordboard server instance for your Experiment {myexpId} with TensorBoard instance ID:\")\n",
    "# start the tensorBoard server instance for the experiment\n",
    "!~/.local/bin/det -m {determined_master} tensorboard start -d {myexpId}"
   ]
  },
  {
   "cell_type": "markdown",
   "id": "547ad7ba-e4ad-4985-849c-6b847a99129d",
   "metadata": {},
   "source": [
    "#### Run the code cell below to get the Tensorboard URL for your experiment. Then, click on the link to connect.\n",
    "\n",
    ">**Note:** The associated TensorBoard server is launched as a container POD in the Kubernetes cluster. Determined proxies HTTP requests to and from the TensorBoard container through the Determined Master node."
   ]
  },
  {
   "cell_type": "code",
   "execution_count": null,
   "id": "7c186496-a26e-4607-a1e5-402baa52e7e8",
   "metadata": {},
   "outputs": [],
   "source": [
    "mytensorboard=!~/.local/bin/det -m {determined_master} tensorboard list | grep RUNNING | cut -d'|' -f 1 |  tr -d ' '\n",
    "mytensorboard=str(mytensorboard)[2:-2]\n",
    "#print (f\"{mytensorboard}\")\n",
    "print (f\"Your tensorboard is running at http://notebooks.hpedev.io:{portUI}/proxy/{mytensorboard}/\")\n",
    "print (f\"Click on the link to connect.\")"
   ]
  },
  {
   "cell_type": "markdown",
   "id": "9d80fc27-adf2-4773-a179-4e37a610ebce",
   "metadata": {},
   "source": [
    "<img src=\"TensorBoard-const-graph.png\" height=\"413\" width=\"900\">"
   ]
  },
  {
   "cell_type": "markdown",
   "id": "1e298668-ca20-46cf-a648-4cecf3176bb8",
   "metadata": {},
   "source": [
    "Determined created TensorBoard plots to show the training loss, validation loss, training accuracy and validation accuracy for the training task (trial).\n",
    "\n",
    "#### When you have finished with Tensorboard, run the code cell below to `kill` the Tensorboard process"
   ]
  },
  {
   "cell_type": "code",
   "execution_count": null,
   "id": "bb3d6f00-eb7a-41bf-a376-f44f86282e67",
   "metadata": {},
   "outputs": [],
   "source": [
    "!~/.local/bin/det -m {determined_master} tensorboard kill {mytensorboard}"
   ]
  },
  {
   "cell_type": "markdown",
   "id": "9ddc7fdd-bdaa-48fb-b689-d7063b12c3aa",
   "metadata": {},
   "source": [
    "### 11 - List the best model created by the training process\n",
    "By default, Determined will save the most recent and the best checkpoint per training task (trial) according to the validation metrics specified in the Searcher section of the configuration file for the experiment.\n",
    "\n",
    "* _det experiment list-checkpoints [--best] [N best checkpoints to return] \\<experiment_Id\\>_\n",
    "\n",
    ">**Note**: Upon completion of the training task, if the most recent checkpoint is also the best checkpoint for a given trial, only one checkpoint will be saved for that trial by Determined. Otherwise, two checkpoints will be saved. Other checkpoints will be automatically deleted to reclaim space.\n",
    "\n",
    "#### Run the code cell below to display the best checkpoint for your experiment"
   ]
  },
  {
   "cell_type": "code",
   "execution_count": null,
   "id": "79c5ce52-2f44-4dd0-b7cc-ca154e6ba175",
   "metadata": {},
   "outputs": [],
   "source": [
    "#list the best Trial checkpoint(s) (training task):\n",
    "!~/.local/bin/det -m {determined_master} experiment list-checkpoints --best 1 {myexpId}"
   ]
  },
  {
   "cell_type": "markdown",
   "id": "6edeaa24-b74f-441e-914e-a0f75507751a",
   "metadata": {},
   "source": [
    "### 12 - Launch a JupyterLab instance on the Determined system\n",
    "\n",
    "Users can also launch a JupyterLab server instance on the Determined system, in which they run Jupyter Notebooks. This is useful to load and test a model that was trained during the experiment because the Determined CLI is installed into the JupyterLab server instance by default, and the JupyterLab server container has access to the shared file system where the checkpoints are stored. \n",
    "\n",
    "In the next section of this part of the lab, you will use a JupyterLab server instance on Determined system to test your trained model and make predictions. \n",
    "\n",
    "Determined lets you launch an instance of a JupyterLab server and access the JupyterLab server in one-click from the WebUI, or you can run the following command in Determined’s command line:\n",
    "\n",
    "* _det notebook start [--config-file]_\n",
    "\n",
    "The configuration file is used to control aspects of the JupyterLab environment such as a description, the checkpoint volume where trial checkpoints are stored in the shared file system, and the resources (CPU or GPU) used to launch the JupyterLab server. Run the next code cell to look at the content of the configuration file.\n",
    "\n",
    "#### Run the code cell below to examine the settings for the JupyterLab instance.\n",
    "The configuration file used here allows you to launch a JupyterLab server instance that does not use any GPUs (***resources.slot=0***) and that gets access to the shared checkpoint storage area where the model artifacts are stored.  "
   ]
  },
  {
   "cell_type": "code",
   "execution_count": null,
   "id": "d82e92f6-d343-4dc8-a006-b7e765a00297",
   "metadata": {},
   "outputs": [],
   "source": [
    "!cat ~/source_control/Code/notebook-config.yaml"
   ]
  },
  {
   "cell_type": "markdown",
   "id": "e7ce4700-ffd1-4104-abd7-cdcc8875146a",
   "metadata": {},
   "source": [
    "#### Run the code cell below to launch an instance of the JupyterLab\n",
    "This may take a minute or so for the JupyterLab instance to become active as Determined has to launch the JupyterLab server instance as a Kubernetes POD in the Kubernetes cluster. "
   ]
  },
  {
   "cell_type": "code",
   "execution_count": null,
   "id": "69109e4c-c5d1-4a58-b076-5202c1db670d",
   "metadata": {},
   "outputs": [],
   "source": [
    "print (f\"Start a JupyterLab server instance within Determined system with instance ID:\")\n",
    "# start the Jyputer Notebook server instance for the experiment\n",
    "!~/.local/bin/det -m {determined_master} notebook start -d --config-file ~/source_control/Code/notebook-config.yaml"
   ]
  },
  {
   "cell_type": "markdown",
   "id": "95369ccb-04fe-4641-bebe-ae5ef28f8e2b",
   "metadata": {},
   "source": [
    "#### Check the status of the JupyterLab instance using the command below:\n",
    "* _det notebook list_"
   ]
  },
  {
   "cell_type": "code",
   "execution_count": null,
   "id": "580d18fa-e82d-4478-8876-7e1315ff8ad2",
   "metadata": {},
   "outputs": [],
   "source": [
    "!~/.local/bin/det -m {determined_master} notebook list | grep -e RUNNING -e STARTING"
   ]
  },
  {
   "cell_type": "markdown",
   "id": "a9e0d22a-96cf-4fcb-83c1-e7ccb87fb4e2",
   "metadata": {},
   "source": [
    "### 13- Inferences with Determined\n",
    "When you train a model with Determined, all of the artifacts (model files) associated with that training tasks are tracked and stored in _checkpoint storage_. Determined lets you access the artifacts programmatically using the Python API from within the JupyterLab server launched on Determined system. This makes it really easy for you to export your best-performing trained model out of Determined and load it for **inferences** (the process of using a trained model and new unlabeled data to make a prediction).\n",
    "\n",
    "* More information about the Determined Python API can be found [here](https://docs.determined.ai/latest/interact/api-experimental-client.html).\n",
    "* More information for downloading a trained model can be found [here](https://docs.determined.ai/latest/post-training/use-trained-models.html).\n",
    "\n",
    "#### Run the code cell to adjust some environment variables in the notebook **Inferences.ipynb**"
   ]
  },
  {
   "cell_type": "code",
   "execution_count": null,
   "id": "0c2cbfdd-1e88-492a-ac17-c1fa8cd02385",
   "metadata": {},
   "outputs": [],
   "source": [
    "!sed -i \"s/USERNAME/$userID/\" Inferences.ipynb\n",
    "!sed -i \"s/EXPID/$myexpId/\" Inferences.ipynb\n",
    "!sed -i \"s/MASTERURL/$det_master/\" Inferences.ipynb"
   ]
  },
  {
   "cell_type": "markdown",
   "id": "0d743a57-ce49-4963-95c5-5332f6a051e1",
   "metadata": {},
   "source": [
    "#### Next, download the file **Inferences.ipynb** to your local PC/laptop. \n",
    "\n",
    "You will use this notebook to test your trained model by making some inferences from JupyterLab instance you have just launched on Determined system.\n",
    "\n",
    "Right-click on the file **Inferences.ipynb** and choose **Download**."
   ]
  },
  {
   "cell_type": "markdown",
   "id": "904a598a-1920-46cd-bfc2-112737d2242a",
   "metadata": {},
   "source": [
    "#### Now, connect to the JupyterLab server instance you have just deployed: \n",
    "\n",
    "* Run the code cell below to get the JupyterLab URL. Then, click on the link to connect to the JupyterLab instance you have just launched on Determined System.\n",
    "\n",
    "* On the JupyterLab instance, click the ***up arrow*** icon to **upload** the file _Inferences.ipynb_ from your local PC/laptop. Once the file is uploaded, double-click the file to open the notebook. "
   ]
  },
  {
   "cell_type": "code",
   "execution_count": null,
   "id": "3a53db3e-a19e-46c5-b10c-4dbb637d4cd9",
   "metadata": {},
   "outputs": [],
   "source": [
    "myNotebook=!~/.local/bin/det -m {determined_master} notebook list | grep RUNNING | cut -d'|' -f 1 |  tr -d ' '\n",
    "myNotebook=str(myNotebook)[2:-2]\n",
    "print (f\"{myNotebook}\")\n",
    "print (f\"Your JupyterLab instance is running at http://notebooks.hpedev.io:{portUI}/proxy/{myNotebook}/\")\n",
    "print (f\"Click on the link to connect to the JupyterLab instance you just launched.\")\n",
    "print (f\"On JupyterLab instance, click the up arrow to upload the file Inferences.ipynb.\")"
   ]
  },
  {
   "cell_type": "markdown",
   "id": "46f491a9-dd42-4792-a2ef-46f190479d95",
   "metadata": {},
   "source": [
    "> <font color=\"red\"> **IMPORTANT: When you have finished with the Inferences in JulyterLab on Determined system, please get back to your local Jupyter Notebook to run the code cells below and perform some cleanup** </font>"
   ]
  },
  {
   "cell_type": "markdown",
   "id": "7a082464-b80e-45a8-8bf3-2fac4c4126cc",
   "metadata": {},
   "source": [
    "### 14- Delete the checkpoints for your experiment to reclaim some storage space in the storage file system and stop the JupyterLab instance.\n",
    "\n",
    "The default **checkpoint garbage collection policy** dictates Determined to save the most recent and the best checkpoint per training task (trial). The ***save_experiment_best***, ***save_trial_best*** and ***save_trial_latest*** parameters specify which checkpoints to save. The default policy is set as follows:\n",
    "\n",
    "  * save_experiment_best:0 \n",
    "  * save_trial_best:1\n",
    "  * save_trial_latest:1\n",
    " \n",
    "#### Run the code cell below to reclaim some storage disk space by changing the default checkpoint garbage collection policy as shown below:"
   ]
  },
  {
   "cell_type": "code",
   "execution_count": null,
   "id": "b41024e9-3159-4fb8-8ae6-3c79515a0b0c",
   "metadata": {},
   "outputs": [],
   "source": [
    "# Delete the checkpoints data for the single model training using a single GPU\n",
    "!~/.local/bin/det -m {determined_master} experiment set gc-policy --yes --save-experiment-best 0 --save-trial-best 0 --save-trial-latest 0 {myexpId}"
   ]
  },
  {
   "cell_type": "markdown",
   "id": "796249d0-f919-4122-af5d-2a044255cd0a",
   "metadata": {},
   "source": [
    "#### Next, delete the instance of the JupyterLab server."
   ]
  },
  {
   "cell_type": "code",
   "execution_count": null,
   "id": "aad35c95-2ef6-4211-bc0e-d00eca8004ac",
   "metadata": {},
   "outputs": [],
   "source": [
    "!~/.local/bin/det -m {determined_master} notebook kill {myNotebook}"
   ]
  },
  {
   "cell_type": "markdown",
   "id": "b50463fa-d916-4422-85d9-79f7b97bdbd2",
   "metadata": {},
   "source": [
    "#### Now that you have the base principles about Determined in mind, let's explore some more complex experiments with Distributing training.\n",
    "\n",
    "Click on Lab 3 below to open a notebook to explore Distributed Training with Determined. \n",
    "* [Lab 3](3-WKSHP-DET-AI-101-Getting-started-Dist-Training.ipynb)"
   ]
  },
  {
   "cell_type": "markdown",
   "id": "03b5ad2b-0701-4efd-bd64-fbc36e7da42c",
   "metadata": {},
   "source": [
    "### 16- Train multiple models as part of a hyperparameter search, using Determined AI hyperparameter tuning functionality (HPO)\n",
    "\n",
    "Next, let's run an experiment with the same model definition (same code), but this time leveraging Determined's hyperparameter tuning (aka Hyperparameter Optimization or **HPO**). ML engineers typically use HPO to efficiently determine the hyperparameter values that yield the best-performing model. Here the hyperparameters in the experiment configuration file are specified as ranges instead of fixed values, and the `adaptive_asha` searcher is used to explore the hyperparameter space.\n",
    "\n",
    "With HPO, an experiment consists of multiple training tasks (trials), each with different hyperparameters. Determined AI hyperparameter tuning functionality helps you find the best combination of hyperparameters for your particular model. \n",
    "\n",
    "The number of trials to run,  the set of user-defined hyperparameters range and the search algorithm (aka the searcher method) are defined in the configuration file _adaptive.yaml_.\n",
    "\n",
    ">Note: The **searcher** is a method that is used to find effective hyperparameter settings within a predifined range of hyperparameter values.\n",
    "\n",
    "More about Hyperparameter optimization and Searcher methods supported by Determined AI can be found [here](https://docs.determined.ai/latest/training-hyperparameter/index.html#hyperparameter-tuning)"
   ]
  },
  {
   "cell_type": "code",
   "execution_count": null,
   "id": "2fca3982-8a5f-4d11-bc04-187676bf228b",
   "metadata": {},
   "outputs": [],
   "source": [
    "!cat ~/source_control/Code/adaptive.yaml"
   ]
  },
  {
   "cell_type": "code",
   "execution_count": null,
   "id": "36ec7a57-6f3f-4036-b0ff-e8490599b3c1",
   "metadata": {},
   "outputs": [],
   "source": [
    "# Launch experiment to train the model with hyperparameter tuning\n",
    "!~/.local/bin/det -m {determined_master} experiment create ~/source_control/Code/adaptive.yaml ~/source_control/Code"
   ]
  },
  {
   "cell_type": "code",
   "execution_count": null,
   "id": "8797b8d1-a728-4164-8416-318561d47104",
   "metadata": {},
   "outputs": [],
   "source": [
    "!kubectl get pods -n determinedai"
   ]
  },
  {
   "cell_type": "code",
   "execution_count": null,
   "id": "bb6b573d-468b-46cf-98af-19ed06f06f08",
   "metadata": {},
   "outputs": [],
   "source": [
    "# Delete the checkpoints data for the HPO training\n",
    "myexpId=!~/.local/bin/det -m {determined_master} experiment list | tail -1 | cut -d'|' -f 1\n",
    "myexpId=str(myexpId)[5:-3]\n",
    "print (f\"{myexpId}\")\n",
    "!~/.local/bin/det -m {determined_master} experiment set gc-policy --yes --save-experiment-best 0 --save-trial-best 0 --save-trial-latest 0 {myexpId}"
   ]
  },
  {
   "cell_type": "markdown",
   "id": "f55b16fb-528f-4185-8ec0-36f617b4e63c",
   "metadata": {},
   "source": [
    "Third experiment: On the experiment detail page, we see the best categorical accuracy that Determined's adaptive search achieves over time.  When the experiment finishes, we find that we reach 100% accuracy on the 30 test set examples, an improvement over the results of the fixed hyperparameter experiment.  We can drill in to the best-performing trial and view the associated hyperparameter values."
   ]
  },
  {
   "cell_type": "code",
   "execution_count": null,
   "id": "41da47f8-66e0-4a79-9dae-4332ce30ebf6",
   "metadata": {},
   "outputs": [],
   "source": []
  }
 ],
 "metadata": {
  "kernelspec": {
   "display_name": "Python 3 (ipykernel)",
   "language": "python",
   "name": "python3"
  },
  "language_info": {
   "codemirror_mode": {
    "name": "ipython",
    "version": 3
   },
   "file_extension": ".py",
   "mimetype": "text/x-python",
   "name": "python",
   "nbconvert_exporter": "python",
   "pygments_lexer": "ipython3",
   "version": "3.8.10"
  }
 },
 "nbformat": 4,
 "nbformat_minor": 5
}
