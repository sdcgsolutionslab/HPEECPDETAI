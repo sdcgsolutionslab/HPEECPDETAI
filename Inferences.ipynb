{
 "cells": [
  {
   "cell_type": "markdown",
   "id": "572ed22a-9a7c-454a-b959-433bf500b883",
   "metadata": {},
   "source": [
    "### Inferences"
   ]
  },
  {
   "cell_type": "code",
   "execution_count": null,
   "id": "c55e27e2-417d-43fc-8e18-46f3da7f28a5",
   "metadata": {},
   "outputs": [],
   "source": [
    "import os\n",
    "import numpy as np\n",
    "##import determined.keras\n",
    "determined_master=\"http://MASTERURL\"\n",
    "myexpId=\"EXPID\"\n",
    "#\n",
    "os.environ[\"CUDA_DEVICE_ORDER\"]=\"PCI_BUS_ID\"\n",
    "os.environ[\"CUDA_VISIBLE_DEVICES\"]=\"-1\"\n",
    "#\n",
    "# Login to Determined system\n",
    "#\n",
    "from determined.experimental import client\n",
    "client.login(master=determined_master, user=\"USERNAME\", password=\"\")"
   ]
  },
  {
   "cell_type": "code",
   "execution_count": null,
   "id": "1a25c01a-3fde-4cff-a698-da2716960bdb",
   "metadata": {},
   "outputs": [],
   "source": [
    "#\n",
    "# download the best model checkpoint from the shared checkpoint storage\n",
    "#\n",
    "best_checkpoint = client.get_experiment(myexpId).top_checkpoint()\n",
    "print(f\"The best checkpoint for the Experiment {myexpId} is {best_checkpoint.uuid}\")\n",
    "print (\"\")\n",
    "print(f\"Loading top checkpoint from experiment: {myexpId}\")\n",
    "checkpoint_path = best_checkpoint.download()\n",
    "print(f\"Downloaded checkpoint to: {checkpoint_path}\")"
   ]
  },
  {
   "cell_type": "code",
   "execution_count": null,
   "id": "33785069-d502-4d6b-9253-a169de9d479c",
   "metadata": {},
   "outputs": [],
   "source": [
    "#\n",
    "# load the best model checkpoint\n",
    "#\n",
    "from determined import keras\n",
    "model = keras.load_model_from_checkpoint_path(checkpoint_path)\n",
    "print(\"Loaded trained model\")"
   ]
  },
  {
   "cell_type": "code",
   "execution_count": null,
   "id": "ea3f737d-5384-4890-b529-0ce5752356dc",
   "metadata": {},
   "outputs": [],
   "source": [
    "#\n",
    "# Now you can use the model to make predictions.\n",
    "# we're going to manually provide three (3) unlabeled examples to predict their labels. The prediction will provide the likelihood that the flower is the given Iris species.\n",
    "# The label numbers are mapped to a named representation as:\n",
    "#\n",
    "#    0: Iris setosa\n",
    "#    1: Iris versicolor\n",
    "#    2: Iris virginica\n",
    "#\n",
    "X_new = np.array([[3, 2, 1, 0.2], [4.9, 2.2, 3.8, 1.1], [5.3, 2.5, 4.6, 1.9]])\n",
    "prediction = model(X_new) #or prediction = model.predict(X_new)\n",
    "print(\"Let's predict the likelihood that the flower is the given Iris species 0: Iris setosa, 1: Iris versicolor, 2: Iris virginica {}\".format(prediction))\n",
    "print(\"\")\n",
    "print(\"the prediction of species for the 3 example is:\")\n",
    "print(np.argmax(prediction,axis=1))"
   ]
  }
 ],
 "metadata": {
  "kernelspec": {
   "display_name": "Python 3",
   "language": "python",
   "name": "python3"
  },
  "language_info": {
   "codemirror_mode": {
    "name": "ipython",
    "version": 3
   },
   "file_extension": ".py",
   "mimetype": "text/x-python",
   "name": "python",
   "nbconvert_exporter": "python",
   "pygments_lexer": "ipython3",
   "version": "3.7.3"
  }
 },
 "nbformat": 4,
 "nbformat_minor": 5
}
