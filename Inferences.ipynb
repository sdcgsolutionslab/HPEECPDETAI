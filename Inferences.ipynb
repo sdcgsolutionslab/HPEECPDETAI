{
 "cells": [
  {
   "cell_type": "markdown",
   "id": "572ed22a-9a7c-454a-b959-433bf500b883",
   "metadata": {},
   "source": [
    "## Testing the Iris classification trained model\n",
    "\n",
    "Determined manages the model artifacts, so after training is completed we can easily retrieve the best performing checkpoint of the model, and use it to make inferences. \n",
    "\n",
    "* ***Inferences:*** The process of using a trained model and new unlabeled data to make a prediction.\n",
    "\n",
    "In addition to Determined CLI commands, Determined provides a Python API to interact with Determined, download the best model checkpoint files, and load it into memory in a Python process, for TensorFlow and Pythorch based models.\n",
    "\n",
    "Let's use the Determined Python API and test the model on three unlabeled examples to predict the Iris flower species based on the length and width of their sepal and petal, and validate the model works as expected.\n",
    "\n",
    ">***Note:*** _To learn more about the Python API, check out the documentation [here](https://docs.determined.ai/latest/interact/api-experimental-client.html#)._"
   ]
  },
  {
   "cell_type": "markdown",
   "id": "0ccc70fe-ed94-4fdb-ad22-df690af44ece",
   "metadata": {},
   "source": [
    "### Import the Python libraries"
   ]
  },
  {
   "cell_type": "code",
   "execution_count": null,
   "id": "c55e27e2-417d-43fc-8e18-46f3da7f28a5",
   "metadata": {},
   "outputs": [],
   "source": [
    "# Hide the GPU ro run code on CPU. We do it before importing keras to avoid library version issue with GPUs\n",
    "import os\n",
    "os.environ[\"CUDA_DEVICE_ORDER\"]=\"PCI_BUS_ID\"\n",
    "os.environ[\"CUDA_VISIBLE_DEVICES\"]=\"-1\"\n",
    "#\n",
    "import numpy as np\n",
    "from determined.experimental import client\n",
    "from determined import keras\n",
    "#\n",
    "determined_master=\"http://MASTERURL\"\n",
    "myexpId=\"EXPID\""
   ]
  },
  {
   "cell_type": "markdown",
   "id": "e6817afe-0b06-4962-833e-544dff398926",
   "metadata": {},
   "source": [
    "### Login to Determined System\n",
    "\n",
    "To interact with Determined, you must first authenticate to Determined system."
   ]
  },
  {
   "cell_type": "code",
   "execution_count": null,
   "id": "ca5435bf-39c4-4eab-91d5-f7f1852df378",
   "metadata": {},
   "outputs": [],
   "source": [
    "#\n",
    "# Login to Determined system\n",
    "#\n",
    "client.login(master=determined_master, user=\"USERNAME\", password=\"\")"
   ]
  },
  {
   "cell_type": "markdown",
   "id": "be5d4f05-c086-4f40-adc1-5bd08c19ea99",
   "metadata": {},
   "source": [
    "### Download the best model checkpoint from the shared checkpoint storage"
   ]
  },
  {
   "cell_type": "code",
   "execution_count": null,
   "id": "1a25c01a-3fde-4cff-a698-da2716960bdb",
   "metadata": {},
   "outputs": [],
   "source": [
    "#\n",
    "# download the best model checkpoint from the shared checkpoint storage\n",
    "#\n",
    "best_checkpoint = client.get_experiment(myexpId).top_checkpoint()\n",
    "print(f\"The best checkpoint for the Experiment {myexpId} is {best_checkpoint.uuid}\")\n",
    "print (\"\")\n",
    "print(f\"Downloading top checkpoint from experiment: {myexpId}\")\n",
    "checkpoint_path = best_checkpoint.download()\n",
    "print(f\"Downloaded checkpoint to: {checkpoint_path}\")"
   ]
  },
  {
   "cell_type": "markdown",
   "id": "0da74a2d-beaa-43d2-aa50-46c8e272d6aa",
   "metadata": {},
   "source": [
    "### Loading the model"
   ]
  },
  {
   "cell_type": "code",
   "execution_count": null,
   "id": "33785069-d502-4d6b-9253-a169de9d479c",
   "metadata": {},
   "outputs": [],
   "source": [
    "#\n",
    "# load the best model checkpoint\n",
    "#\n",
    "from determined import keras\n",
    "model = keras.load_model_from_checkpoint_path(checkpoint_path)\n",
    "print(\"Loaded trained model\")"
   ]
  },
  {
   "cell_type": "markdown",
   "id": "4e2d8927-8fe1-4b93-a4f3-f019b28e0224",
   "metadata": {},
   "source": [
    "### Making inferences\n",
    "\n",
    "Now you can use the model to make predictions.\n",
    "\n",
    "Here, you're going to supply three (3) unlabeled examples (each with the length and width measurements of the flower sepal and petal) to the model. Based on the flower's measurements, the model will predict the ***likelihood*** that the flower is the given Iris species (the label).\n",
    " \n",
    "The label numbers are mapped to a named representation as:\n",
    "* 0: Iris setosa\n",
    "* 1: Iris versicolor\n",
    "* 2: Iris virginica"
   ]
  },
  {
   "cell_type": "code",
   "execution_count": null,
   "id": "ea3f737d-5384-4890-b529-0ce5752356dc",
   "metadata": {},
   "outputs": [],
   "source": [
    "#\n",
    "# Now you can use the model to make predictions.\n",
    "# mesasurement is Sepal length, Sepal width, Petal length, Petal width,  \n",
    "X_new = np.array([[5, 3.9, 2, 0.5], [5, 2.5, 3, 1], [8, 3.5, 6, 2]])\n",
    "prediction = model(X_new)\n",
    "print(\"Let's predict the likelihood that the flower is the given Iris species 0: Iris setosa, 1: Iris versicolor, 2: Iris virginica {}\".format(prediction))"
   ]
  },
  {
   "cell_type": "markdown",
   "id": "dbde9c38-9ff0-471e-a5d0-27e59faba2a0",
   "metadata": {},
   "source": [
    "Here you can see that for the first set of measurements, the model predicts with high confidence (+90% probability) that the Iris specie is an Iris Setosa.  \n",
    "\n",
    "For the second set of measurements, the model predicts the Iris specie is an Iris versicolor (+70% probability), and for the third set of measurements, the model predicts the iris specie is an Iris virginica (+60% probability).\n",
    "\n",
    "Finally, let's print out the actual numeric value for each unlabeled example:"
   ]
  },
  {
   "cell_type": "code",
   "execution_count": null,
   "id": "bdcbda7c-3cf6-4fe3-81ea-fb17aef7bb7b",
   "metadata": {},
   "outputs": [],
   "source": [
    "print(\"\")\n",
    "print(\"the prediction of species for the 3 example is:\")\n",
    "print(np.argmax(prediction,axis=1))"
   ]
  },
  {
   "cell_type": "markdown",
   "id": "66176d33-4a09-45e8-95e8-1aa0fd8eef8b",
   "metadata": {},
   "source": [
    "> <font color=\"red\"> ***IMPORTANT: When you have finished with the Inferences in JulyterLab on Determined system, please log out from the JupyterLab (File --> Logout) and get back to your local Jupyter Notebook from <ins>\"step 14\"</ins> to perform some cleanup.*** </font>"
   ]
  }
 ],
 "metadata": {
  "kernelspec": {
   "display_name": "Python 3 (ipykernel)",
   "language": "python",
   "name": "python3"
  },
  "language_info": {
   "codemirror_mode": {
    "name": "ipython",
    "version": 3
   },
   "file_extension": ".py",
   "mimetype": "text/x-python",
   "name": "python",
   "nbconvert_exporter": "python",
   "pygments_lexer": "ipython3",
   "version": "3.8.10"
  }
 },
 "nbformat": 4,
 "nbformat_minor": 5
}
